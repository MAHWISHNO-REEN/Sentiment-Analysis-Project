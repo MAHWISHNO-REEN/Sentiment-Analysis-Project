{
 "cells": [
  {
   "cell_type": "code",
   "execution_count": 8,
   "metadata": {},
   "outputs": [
    {
     "name": "stdout",
     "output_type": "stream",
     "text": [
      "              precision    recall  f1-score   support\n",
      "\n",
      "           0       0.89      0.89      0.89      4945\n",
      "           1       0.89      0.90      0.89      5055\n",
      "\n",
      "    accuracy                           0.89     10000\n",
      "   macro avg       0.89      0.89      0.89     10000\n",
      "weighted avg       0.89      0.89      0.89     10000\n",
      "\n"
     ]
    }
   ],
   "source": [
    "import sys\n",
    "sys.path.append(r'E:\\7th Semester\\NLP\\sentiment_analysis_project')\n",
    " \n",
    "# Replace with your actual project path\n",
    "\n",
    "# sentiment_analysis_notebook.ipynb\n",
    "# Import necessary functions from your script files\n",
    "from src.data_preprocessing import load_data, preprocess_data\n",
    "from src.model_training import vectorize_data, train_and_evaluate\n",
    "\n",
    "\n",
    "df = load_data('E:/7th Semester/NLP/sentiment_analysis_project/data/aclImdb')\n",
    "\n",
    "# Load and preprocess data\n",
    "#df = load_data('data/aclImdb')\n",
    "df = preprocess_data(df)\n",
    "\n",
    "# Vectorize data and split into train/test sets\n",
    "(X_train, X_test, y_train, y_test), vectorizer = vectorize_data(df)\n",
    "\n",
    "# Train and evaluate model\n",
    "report = train_and_evaluate(X_train, X_test, y_train, y_test, model_type='logistic_regression')\n",
    "print(report)\n"
   ]
  }
 ],
 "metadata": {
  "kernelspec": {
   "display_name": "Python 3",
   "language": "python",
   "name": "python3"
  },
  "language_info": {
   "codemirror_mode": {
    "name": "ipython",
    "version": 3
   },
   "file_extension": ".py",
   "mimetype": "text/x-python",
   "name": "python",
   "nbconvert_exporter": "python",
   "pygments_lexer": "ipython3",
   "version": "3.12.3"
  }
 },
 "nbformat": 4,
 "nbformat_minor": 2
}
